{
 "cells": [
  {
   "cell_type": "markdown",
   "id": "93a30d22",
   "metadata": {},
   "source": [
    "## Python learning notebook"
   ]
  },
  {
   "cell_type": "markdown",
   "id": "dfe83304",
   "metadata": {},
   "source": [
    "### Data Format\n",
    "CSV format:\n",
    "\n",
    "rows: information for a single patient\n",
    "\n",
    "columns: successive days"
   ]
  },
  {
   "cell_type": "markdown",
   "id": "8a24af0f",
   "metadata": {},
   "source": [
    "![Alt text](../fig1.png \"Optional title\")"
   ]
  },
  {
   "cell_type": "markdown",
   "id": "bbecbda3",
   "metadata": {},
   "source": [
    "#### Basic data types in Python: \n",
    "integers, strings, and floating-point"
   ]
  },
  {
   "cell_type": "markdown",
   "id": "9a1b4602",
   "metadata": {},
   "source": [
    "Use print(something) and print(type(something)) to display the value and type of value of something."
   ]
  },
  {
   "cell_type": "markdown",
   "id": "57924a67",
   "metadata": {},
   "source": [
    "Import a library into a program using import libraryname. Use the numpy library to work with arrays in Python."
   ]
  },
  {
   "cell_type": "code",
   "execution_count": 166,
   "id": "c5c183e6",
   "metadata": {},
   "outputs": [],
   "source": [
    "import numpy as np"
   ]
  },
  {
   "cell_type": "markdown",
   "id": "835aa42f",
   "metadata": {},
   "source": [
    "Ask the library to read our data file:\n",
    "\n",
    "np.loadtxt(fname='name of file', delimiter='separates values on a line')"
   ]
  },
  {
   "cell_type": "code",
   "execution_count": null,
   "id": "3bd15222",
   "metadata": {},
   "outputs": [],
   "source": [
    "data = np.loadtxt(fname='./data/inflammation-01.csv', delimiter=',')"
   ]
  },
  {
   "cell_type": "markdown",
   "id": "252ca942",
   "metadata": {},
   "source": [
    "Use variable = value to assign a value to a variable in order to record it in memory."
   ]
  },
  {
   "cell_type": "code",
   "execution_count": 168,
   "id": "a548e89a",
   "metadata": {},
   "outputs": [
    {
     "name": "stdout",
     "output_type": "stream",
     "text": [
      "[[0. 0. 1. ... 3. 0. 0.]\n",
      " [0. 1. 2. ... 1. 0. 1.]\n",
      " [0. 1. 1. ... 2. 1. 1.]\n",
      " ...\n",
      " [0. 1. 1. ... 1. 1. 1.]\n",
      " [0. 0. 0. ... 0. 2. 0.]\n",
      " [0. 0. 1. ... 1. 1. 0.]]\n"
     ]
    }
   ],
   "source": [
    "print(data)"
   ]
  },
  {
   "cell_type": "markdown",
   "id": "6e381d4f",
   "metadata": {},
   "source": [
    "What type of thing data refers to."
   ]
  },
  {
   "cell_type": "code",
   "execution_count": 169,
   "id": "16d69bcd",
   "metadata": {},
   "outputs": [
    {
     "name": "stdout",
     "output_type": "stream",
     "text": [
      "<class 'numpy.ndarray'>\n"
     ]
    }
   ],
   "source": [
    "print(type(data))"
   ]
  },
  {
   "cell_type": "markdown",
   "id": "9b59ff14",
   "metadata": {},
   "source": [
    "An N-dimensional array."
   ]
  },
  {
   "cell_type": "markdown",
   "id": "c4ba8c02",
   "metadata": {},
   "source": [
    "The expression array.shape gives the shape of an array, and data.shape gives the type of the data contained in the NumPy array."
   ]
  },
  {
   "cell_type": "code",
   "execution_count": 170,
   "id": "0949341e",
   "metadata": {},
   "outputs": [
    {
     "name": "stdout",
     "output_type": "stream",
     "text": [
      "float64\n",
      "(60, 40)\n"
     ]
    }
   ],
   "source": [
    "print(data.dtype)\n",
    "print(data.shape)"
   ]
  },
  {
   "cell_type": "markdown",
   "id": "a3f1f1f1",
   "metadata": {},
   "source": [
    "Use array[x, y] to select a single element from a 2D array. Array indices start at 0, not 1.\n",
    "\n",
    "![Alt text](../fig2.png \"Optional title\")"
   ]
  },
  {
   "cell_type": "code",
   "execution_count": 171,
   "id": "8ff8192b",
   "metadata": {},
   "outputs": [
    {
     "name": "stdout",
     "output_type": "stream",
     "text": [
      "first value in data: 0.0\n",
      "middle value in data: 16.0\n"
     ]
    }
   ],
   "source": [
    "print('first value in data:', data[0, 0])\n",
    "print('middle value in data:', data[29, 19])"
   ]
  },
  {
   "cell_type": "markdown",
   "id": "d6b9a26a",
   "metadata": {},
   "source": [
    "### Slicing data\n",
    "select the first ten days (columns) of values for the first four patients (rows):"
   ]
  },
  {
   "cell_type": "code",
   "execution_count": 172,
   "id": "cdc1ad94",
   "metadata": {},
   "outputs": [
    {
     "name": "stdout",
     "output_type": "stream",
     "text": [
      "[[0. 0. 1. 3. 1. 2. 4. 7. 8. 3.]\n",
      " [0. 1. 2. 1. 2. 1. 3. 2. 2. 6.]\n",
      " [0. 1. 1. 3. 3. 2. 6. 2. 5. 9.]\n",
      " [0. 0. 2. 0. 4. 2. 2. 1. 6. 7.]]\n"
     ]
    }
   ],
   "source": [
    "print(data[0:4, 0:10])"
   ]
  },
  {
   "cell_type": "markdown",
   "id": "e6efa765",
   "metadata": {},
   "source": [
    "Start at index 0 and go up to, but not including index 4."
   ]
  },
  {
   "cell_type": "markdown",
   "id": "c6e13ff8",
   "metadata": {},
   "source": [
    "Start at index 5 (row 6) and go up to, but not including index 10 (row 11)."
   ]
  },
  {
   "cell_type": "code",
   "execution_count": 173,
   "id": "82210d3b",
   "metadata": {},
   "outputs": [
    {
     "name": "stdout",
     "output_type": "stream",
     "text": [
      "[[0. 0. 1. 2. 2. 4. 2. 1. 6. 4.]\n",
      " [0. 0. 2. 2. 4. 2. 2. 5. 5. 8.]\n",
      " [0. 0. 1. 2. 3. 1. 2. 3. 5. 3.]\n",
      " [0. 0. 0. 3. 1. 5. 6. 5. 5. 8.]\n",
      " [0. 1. 1. 2. 1. 3. 5. 3. 5. 8.]]\n"
     ]
    }
   ],
   "source": [
    "print(data[5:10, 0:10])"
   ]
  },
  {
   "cell_type": "markdown",
   "id": "ed8c8390",
   "metadata": {},
   "source": [
    "Selects rows 0 through 2 and columns 36 through to the end of the array."
   ]
  },
  {
   "cell_type": "code",
   "execution_count": 174,
   "id": "c9dd01a1",
   "metadata": {},
   "outputs": [
    {
     "name": "stdout",
     "output_type": "stream",
     "text": [
      "small is:\n",
      "[[2. 3. 0. 0.]\n",
      " [1. 1. 0. 1.]\n",
      " [2. 2. 1. 1.]]\n"
     ]
    }
   ],
   "source": [
    "small = data[:3, 36:]\n",
    "print('small is:')\n",
    "print(small)"
   ]
  },
  {
   "cell_type": "markdown",
   "id": "98988df6",
   "metadata": {},
   "source": [
    "### Analyzing data:\n",
    "To calculates the arithmetic mean (average) of all values in the NumPy array (data):"
   ]
  },
  {
   "cell_type": "code",
   "execution_count": 175,
   "id": "4b79e9ae",
   "metadata": {},
   "outputs": [
    {
     "name": "stdout",
     "output_type": "stream",
     "text": [
      "6.14875\n"
     ]
    }
   ],
   "source": [
    "print(np.mean(data))"
   ]
  },
  {
   "cell_type": "markdown",
   "id": "9d7a02f3",
   "metadata": {},
   "source": [
    "It takes all 2400 values in the array (60 patients × 40 days), adds them all together, divides by the total number of values (2400), and then returns a single scalar value representing the overall average inflammation."
   ]
  },
  {
   "cell_type": "markdown",
   "id": "c08e7037",
   "metadata": {},
   "source": [
    "A sample function to show that all Python functions does not have input:"
   ]
  },
  {
   "cell_type": "code",
   "execution_count": 176,
   "id": "35b7e8ab",
   "metadata": {},
   "outputs": [
    {
     "name": "stdout",
     "output_type": "stream",
     "text": [
      "Mon Apr 21 11:44:51 2025\n"
     ]
    }
   ],
   "source": [
    "import time as ti\n",
    "print(ti.ctime())"
   ]
  },
  {
   "cell_type": "markdown",
   "id": "ee57ce6e",
   "metadata": {},
   "source": [
    "### Simple statistics:\n",
    "numpy.mean(array): Mean\n",
    "\n",
    "numpy.amax(array): maximum\n",
    "\n",
    "numpy.amin(array): Minimum"
   ]
  },
  {
   "cell_type": "code",
   "execution_count": 177,
   "id": "65782327",
   "metadata": {},
   "outputs": [
    {
     "name": "stdout",
     "output_type": "stream",
     "text": [
      "maximum inflammation: 20.0\n",
      "minimum inflammation: 0.0\n",
      "standard deviation: 4.613833197118566\n"
     ]
    }
   ],
   "source": [
    "maxval, minval, stdval = np.amax(data), np.amin(data), np.std(data)\n",
    "\n",
    "print('maximum inflammation:', maxval)\n",
    "print('minimum inflammation:', minval)\n",
    "print('standard deviation:', stdval)"
   ]
  },
  {
   "cell_type": "code",
   "execution_count": 178,
   "id": "4b60fbb5",
   "metadata": {},
   "outputs": [
    {
     "name": "stdout",
     "output_type": "stream",
     "text": [
      "maximum inflammation for patient 0: 18.0\n"
     ]
    }
   ],
   "source": [
    "patient_0 = data[0, :] # row 1, all columns\n",
    "print('maximum inflammation for patient 0:', np.amax(patient_0))"
   ]
  },
  {
   "cell_type": "code",
   "execution_count": 179,
   "id": "b40d3bed",
   "metadata": {},
   "outputs": [
    {
     "name": "stdout",
     "output_type": "stream",
     "text": [
      "maximum inflammation for patient 2: 19.0\n"
     ]
    }
   ],
   "source": [
    "print('maximum inflammation for patient 2:', np.amax(data[2, :]))"
   ]
  },
  {
   "cell_type": "markdown",
   "id": "d3b4ca6a",
   "metadata": {},
   "source": [
    "### Statistics across the specified axis:\n",
    "numpy.mean(array, axis=0)\n",
    "\n",
    "![Alt text](../fig3.png \"Optional title\")\n",
    "\n",
    "By specifying axis=0, NumPy takes each column (day) and computes the mean of all 60 patient values for that day."
   ]
  },
  {
   "cell_type": "code",
   "execution_count": 180,
   "id": "30352177",
   "metadata": {},
   "outputs": [
    {
     "name": "stdout",
     "output_type": "stream",
     "text": [
      "[ 0.          0.45        1.11666667  1.75        2.43333333  3.15\n",
      "  3.8         3.88333333  5.23333333  5.51666667  5.95        5.9\n",
      "  8.35        7.73333333  8.36666667  9.5         9.58333333 10.63333333\n",
      " 11.56666667 12.35       13.25       11.96666667 11.03333333 10.16666667\n",
      " 10.          8.66666667  9.15        7.25        7.33333333  6.58333333\n",
      "  6.06666667  5.95        5.11666667  3.6         3.3         3.56666667\n",
      "  2.48333333  1.5         1.13333333  0.56666667]\n",
      "(40,)\n"
     ]
    }
   ],
   "source": [
    "print(np.mean(data, axis=0))\n",
    "print(np.mean(data, axis=0).shape)"
   ]
  },
  {
   "cell_type": "markdown",
   "id": "bfa9e92d",
   "metadata": {},
   "source": [
    "The result is a 1D array with 40 elements (N×1 vector-one average for each day)."
   ]
  },
  {
   "cell_type": "markdown",
   "id": "e8f11fc5",
   "metadata": {},
   "source": [
    "numpy.mean(array, axis=1):\n",
    "\n",
    "By specifying axis=1, NumPy takes each row (patient) and computes the mean of all 40 days values for that ptient. It should output 60 averaged values."
   ]
  },
  {
   "cell_type": "code",
   "execution_count": 188,
   "id": "bc26f4af",
   "metadata": {},
   "outputs": [
    {
     "name": "stdout",
     "output_type": "stream",
     "text": [
      "[5.45  5.425 6.1   5.9   5.55  6.225 5.975 6.65  6.625 6.525 6.775 5.8\n",
      " 6.225 5.75  5.225 6.3   6.55  5.7   5.85  6.55  5.775 5.825 6.175 6.1\n",
      " 5.8   6.425 6.05  6.025 6.175 6.55  6.175 6.35  6.725 6.125 7.075 5.725\n",
      " 5.925 6.15  6.075 5.75  5.975 5.725 6.3   5.9   6.75  5.925 7.225 6.15\n",
      " 5.95  6.275 5.7   6.1   6.825 5.975 6.725 5.7   6.25  6.4   7.05  5.9  ]\n",
      "(60,)\n"
     ]
    }
   ],
   "source": [
    "print(np.mean(data, axis=1))\n",
    "print(np.mean(data, axis=1).shape)"
   ]
  },
  {
   "cell_type": "markdown",
   "id": "666b6d7d",
   "metadata": {},
   "source": [
    "A section of an array is called a slice. We can take slices of character strings as well:"
   ]
  },
  {
   "cell_type": "code",
   "execution_count": 182,
   "id": "af2af3ed",
   "metadata": {},
   "outputs": [
    {
     "name": "stdout",
     "output_type": "stream",
     "text": [
      "first three characters: oxy\n",
      "last three characters: gen\n"
     ]
    }
   ],
   "source": [
    "element = 'oxygen'\n",
    "print('first three characters:', element[0:3])\n",
    "print('last three characters:', element[3:6])"
   ]
  },
  {
   "cell_type": "markdown",
   "id": "2da8a702",
   "metadata": {},
   "source": [
    "### Staking arrays:\n",
    "Arrays can be stacked on top of one another, using NumPy’s vstack and hstack functions for vertical and horizontal stacking, respectively."
   ]
  },
  {
   "cell_type": "code",
   "execution_count": 183,
   "id": "de76ef6b",
   "metadata": {},
   "outputs": [
    {
     "name": "stdout",
     "output_type": "stream",
     "text": [
      "A = \n",
      "[[1 2 3]\n",
      " [4 5 6]\n",
      " [7 8 9]]\n"
     ]
    }
   ],
   "source": [
    "A = np.array([[1, 2, 3], [4, 5, 6], [7, 8, 9]])\n",
    "print('A = ')\n",
    "print(A)"
   ]
  },
  {
   "cell_type": "code",
   "execution_count": 184,
   "id": "94a9c566",
   "metadata": {},
   "outputs": [
    {
     "name": "stdout",
     "output_type": "stream",
     "text": [
      "B = \n",
      "[[1 2 3 1 2 3]\n",
      " [4 5 6 4 5 6]\n",
      " [7 8 9 7 8 9]]\n",
      "C = \n",
      "[[1 2 3]\n",
      " [4 5 6]\n",
      " [7 8 9]\n",
      " [1 2 3]\n",
      " [4 5 6]\n",
      " [7 8 9]]\n"
     ]
    }
   ],
   "source": [
    "B = np.hstack([A, A])\n",
    "print('B = ')\n",
    "print(B)\n",
    "\n",
    "C = np.vstack([A, A])\n",
    "print('C = ')\n",
    "print(C)"
   ]
  },
  {
   "cell_type": "markdown",
   "id": "db31a974",
   "metadata": {},
   "source": [
    "Indlammation data of patient 3, week 1:"
   ]
  },
  {
   "cell_type": "code",
   "execution_count": null,
   "id": "aefac1d8",
   "metadata": {},
   "outputs": [
    {
     "name": "stdout",
     "output_type": "stream",
     "text": [
      "[0. 0. 2. 0. 4. 2. 2.]\n"
     ]
    }
   ],
   "source": [
    "patient3_week1 = data[2, :7]\n",
    "print(patient3_week1)"
   ]
  },
  {
   "cell_type": "markdown",
   "id": "984cd045",
   "metadata": {},
   "source": [
    "The following function takes an array and returns the differences between two successive values: [ 0 - 0, 2 - 0, 0 - 2, 4 - 0, 2 - 4, 2 - 2 ]. Then it returns the 6 difference values in a new array."
   ]
  },
  {
   "cell_type": "code",
   "execution_count": 186,
   "id": "6183869c",
   "metadata": {},
   "outputs": [
    {
     "data": {
      "text/plain": [
       "array([ 0.,  2., -2.,  4., -2.,  0.])"
      ]
     },
     "execution_count": 186,
     "metadata": {},
     "output_type": "execute_result"
    }
   ],
   "source": [
    "np.diff(patient3_week1)"
   ]
  }
 ],
 "metadata": {
  "kernelspec": {
   "display_name": "base",
   "language": "python",
   "name": "python3"
  },
  "language_info": {
   "codemirror_mode": {
    "name": "ipython",
    "version": 3
   },
   "file_extension": ".py",
   "mimetype": "text/x-python",
   "name": "python",
   "nbconvert_exporter": "python",
   "pygments_lexer": "ipython3",
   "version": "3.12.3"
  }
 },
 "nbformat": 4,
 "nbformat_minor": 5
}
