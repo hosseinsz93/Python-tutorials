{
 "cells": [
  {
   "cell_type": "markdown",
   "id": "b220e88f",
   "metadata": {},
   "source": [
    "## Python lists\n",
    "a way to store multiple values together."
   ]
  },
  {
   "cell_type": "code",
   "execution_count": 2,
   "id": "9108ef74",
   "metadata": {},
   "outputs": [
    {
     "name": "stdout",
     "output_type": "stream",
     "text": [
      "7\n",
      "7\n"
     ]
    }
   ],
   "source": [
    "odds = [1, 3, 5, 7]\n",
    "print(odds[-1])\n",
    "print(odds[3])"
   ]
  },
  {
   "cell_type": "markdown",
   "id": "4e0ef7cc",
   "metadata": {},
   "source": [
    "the index -1 gives us the last element in the list, -2 the second to last, and so on."
   ]
  },
  {
   "cell_type": "code",
   "execution_count": 5,
   "id": "2936d683",
   "metadata": {},
   "outputs": [
    {
     "name": "stdout",
     "output_type": "stream",
     "text": [
      "The names in the list are: ['Curie', 'Darwing', 'Turing']\n",
      "The corrected names in the list are: ['Curie', 'Darwin', 'Turing']\n"
     ]
    }
   ],
   "source": [
    "names = ['Curie', 'Darwing', 'Turing']  # typo in Darwin's name\n",
    "print('The names in the list are:', names)\n",
    "names[1]='Darwin'\n",
    "print('The corrected names in the list are:', names)"
   ]
  },
  {
   "cell_type": "code",
   "execution_count": 6,
   "id": "6bb4bae0",
   "metadata": {},
   "outputs": [
    {
     "ename": "TypeError",
     "evalue": "'str' object does not support item assignment",
     "output_type": "error",
     "traceback": [
      "\u001b[1;31m---------------------------------------------------------------------------\u001b[0m",
      "\u001b[1;31mTypeError\u001b[0m                                 Traceback (most recent call last)",
      "Cell \u001b[1;32mIn[6], line 2\u001b[0m\n\u001b[0;32m      1\u001b[0m name \u001b[38;5;241m=\u001b[39m \u001b[38;5;124m'\u001b[39m\u001b[38;5;124mDarwin\u001b[39m\u001b[38;5;124m'\u001b[39m\n\u001b[1;32m----> 2\u001b[0m name[\u001b[38;5;241m0\u001b[39m] \u001b[38;5;241m=\u001b[39m \u001b[38;5;124m'\u001b[39m\u001b[38;5;124md\u001b[39m\u001b[38;5;124m'\u001b[39m\n",
      "\u001b[1;31mTypeError\u001b[0m: 'str' object does not support item assignment"
     ]
    }
   ],
   "source": [
    "name = 'Darwin'\n",
    "name[0] = 'd'"
   ]
  }
 ],
 "metadata": {
  "kernelspec": {
   "display_name": "base",
   "language": "python",
   "name": "python3"
  },
  "language_info": {
   "codemirror_mode": {
    "name": "ipython",
    "version": 3
   },
   "file_extension": ".py",
   "mimetype": "text/x-python",
   "name": "python",
   "nbconvert_exporter": "python",
   "pygments_lexer": "ipython3",
   "version": "3.12.3"
  }
 },
 "nbformat": 4,
 "nbformat_minor": 5
}
